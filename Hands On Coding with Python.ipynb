{
 "cells": [
  {
   "cell_type": "code",
   "execution_count": 1,
   "id": "dc372153",
   "metadata": {},
   "outputs": [],
   "source": [
    "import pandas as pd\n",
    "import numpy as np\n",
    "import matplotlib.pyplot as plt\n",
    "import seaborn as sns"
   ]
  },
  {
   "cell_type": "markdown",
   "id": "b00d6e3f",
   "metadata": {},
   "source": [
    "### Variables and Objects"
   ]
  },
  {
   "cell_type": "markdown",
   "id": "fb445ce3",
   "metadata": {},
   "source": [
    "A Python variable is a *symbolic name* that is a reference or pointer to an *object*. Once an object is assigned to a variable, you can refer to the object by that name. But the data itself is still contained within the object."
   ]
  },
  {
   "cell_type": "code",
   "execution_count": 4,
   "id": "d573b46a",
   "metadata": {},
   "outputs": [],
   "source": [
    "a = 1"
   ]
  },
  {
   "cell_type": "markdown",
   "id": "b2a1fab1",
   "metadata": {},
   "source": [
    "This assignment creates an *integer object* with the value 1 and assigns the *variable* 'a' to point to that object.\n",
    "\n",
    "Bahasa gampangnya gini.\n",
    "\n",
    "1. Kita buat sebuah object.\n",
    "2. Object ini adalah sebuah bilangan bulat (integer) bernilai 1.\n",
    "3. Terus pas kita mau simpen object yang kita buat ini di memori sistem, kita memberikan dia nama 'a'.\n",
    "4. Biar pas kita mau pake lagi object ini, kita tinggal panggil nama si 'a'."
   ]
  },
  {
   "cell_type": "code",
   "execution_count": 2,
   "id": "fadf3d44",
   "metadata": {},
   "outputs": [
    {
     "data": {
      "text/plain": [
       "int"
      ]
     },
     "execution_count": 2,
     "metadata": {},
     "output_type": "execute_result"
    }
   ],
   "source": [
    "type(a)"
   ]
  },
  {
   "cell_type": "markdown",
   "id": "8236497a",
   "metadata": {},
   "source": [
    "By using `type(..)` we can know that the object that variable 'a' points, is an integer."
   ]
  },
  {
   "cell_type": "code",
   "execution_count": 5,
   "id": "a418d9ca",
   "metadata": {},
   "outputs": [],
   "source": [
    "a = a + 2"
   ]
  },
  {
   "cell_type": "markdown",
   "id": "1c1f6943",
   "metadata": {},
   "source": [
    "By running the above cell, we *modify* the object that we used to call 'a'. We add it by '2'. So now, the value of this object is '3'. \n",
    "\n",
    "Then, this object, an integer whose value is 3, is re-assigned to variable 'a'.\n",
    "\n",
    "So, now, the variable 'a' points to an object whose value is 3."
   ]
  },
  {
   "cell_type": "markdown",
   "id": "4329260c",
   "metadata": {},
   "source": [
    "### A few examples of Data Types"
   ]
  },
  {
   "cell_type": "markdown",
   "id": "1d3f989b",
   "metadata": {},
   "source": [
    "Each 'object' has its own types. Like what we saw earlier, the object '1' is an integer. Python has different data types that allows us to do different things. "
   ]
  },
  {
   "cell_type": "code",
   "execution_count": 7,
   "id": "e8e3e6e5",
   "metadata": {},
   "outputs": [],
   "source": [
    "### string, which is usually used to process text data\n",
    "teks_contoh = 'abcdefg'"
   ]
  },
  {
   "cell_type": "code",
   "execution_count": 13,
   "id": "8089fed0",
   "metadata": {},
   "outputs": [],
   "source": [
    "### list, which is used to store other objects and give them order (urutan berpengaruh)\n",
    "list_contoh = [1,2,3,4,5,6]"
   ]
  },
  {
   "cell_type": "markdown",
   "id": "c25500a2",
   "metadata": {},
   "source": [
    "List di atas beranggotakan bilangan-bilangan bulat"
   ]
  },
  {
   "cell_type": "code",
   "execution_count": 8,
   "id": "9b47b2b1",
   "metadata": {},
   "outputs": [],
   "source": [
    "list_contoh_2 = ['a', 'b', 'c', 'd', 'e']"
   ]
  },
  {
   "cell_type": "code",
   "execution_count": 12,
   "id": "4408f209",
   "metadata": {},
   "outputs": [
    {
     "ename": "IndexError",
     "evalue": "list index out of range",
     "output_type": "error",
     "traceback": [
      "\u001b[1;31m---------------------------------------------------------------------------\u001b[0m",
      "\u001b[1;31mIndexError\u001b[0m                                Traceback (most recent call last)",
      "\u001b[1;32m<ipython-input-12-97f37332df92>\u001b[0m in \u001b[0;36m<module>\u001b[1;34m\u001b[0m\n\u001b[1;32m----> 1\u001b[1;33m \u001b[0mlist_contoh_2\u001b[0m\u001b[1;33m[\u001b[0m\u001b[1;36m5\u001b[0m\u001b[1;33m]\u001b[0m\u001b[1;33m\u001b[0m\u001b[0m\n\u001b[0m",
      "\u001b[1;31mIndexError\u001b[0m: list index out of range"
     ]
    }
   ],
   "source": [
    "list_contoh_2[5]"
   ]
  },
  {
   "cell_type": "code",
   "execution_count": 9,
   "id": "92a71401",
   "metadata": {},
   "outputs": [
    {
     "data": {
      "text/plain": [
       "1"
      ]
     },
     "execution_count": 9,
     "metadata": {},
     "output_type": "execute_result"
    }
   ],
   "source": [
    "list_contoh[0]"
   ]
  },
  {
   "cell_type": "code",
   "execution_count": 10,
   "id": "52364fe6",
   "metadata": {},
   "outputs": [
    {
     "data": {
      "text/plain": [
       "2"
      ]
     },
     "execution_count": 10,
     "metadata": {},
     "output_type": "execute_result"
    }
   ],
   "source": [
    "list_contoh[1]"
   ]
  },
  {
   "cell_type": "markdown",
   "id": "32001c86",
   "metadata": {},
   "source": [
    "Dan kita bisa 'memanggil' anggota-anggota dari list itu menurut INDEX nya (posisi)."
   ]
  },
  {
   "cell_type": "markdown",
   "id": "eb93dba3",
   "metadata": {},
   "source": [
    "Selain itu, kita juga bisa menambahkan sesuatu ke dalam list yang telah dibuat"
   ]
  },
  {
   "cell_type": "code",
   "execution_count": 16,
   "id": "b96fbdc4",
   "metadata": {},
   "outputs": [],
   "source": [
    "list_contoh.append(10)"
   ]
  },
  {
   "cell_type": "code",
   "execution_count": 17,
   "id": "7907e866",
   "metadata": {},
   "outputs": [
    {
     "data": {
      "text/plain": [
       "[1, 2, 3, 4, 5, 6, 8, 10]"
      ]
     },
     "execution_count": 17,
     "metadata": {},
     "output_type": "execute_result"
    }
   ],
   "source": [
    "list_contoh"
   ]
  },
  {
   "cell_type": "markdown",
   "id": "b5452fd6",
   "metadata": {},
   "source": [
    "Kita menambahkan angka '8' untuk dimasukkan ke dalam list_contoh. \n",
    "\n",
    "Object 'list' yang direfer oleh variabel `list_contoh` pun berubah. Ini tujuannya ada variabel, biar kita bisa ngecek nilai 'terkini' dari masing-masing object yang telah kita buat di masa lampau. Biar kita tau perubahannya. Dan ga usah ngebuat object tersebut dari 0 lagi. Tinggal dipanggil pake 1 nama yang konsisten aja."
   ]
  },
  {
   "cell_type": "code",
   "execution_count": 18,
   "id": "e6585c7e",
   "metadata": {},
   "outputs": [],
   "source": [
    "### list can have duplicates in them\n",
    "list_contoh_2 = [1,1,1,1,1,1]"
   ]
  },
  {
   "cell_type": "code",
   "execution_count": 14,
   "id": "e27c4006",
   "metadata": {},
   "outputs": [],
   "source": [
    "### set, himpunan. Berbeda dari list, set nggak boleh ada komponen duplikat. \n",
    "### tapi, di dalam himpunan, tidak ada urutan"
   ]
  },
  {
   "cell_type": "code",
   "execution_count": 23,
   "id": "35d9cb2e",
   "metadata": {},
   "outputs": [],
   "source": [
    "set_contoh = set(['d','i','b','i','m','b','i','n','g'])"
   ]
  },
  {
   "cell_type": "code",
   "execution_count": 24,
   "id": "a7a1a3a9",
   "metadata": {},
   "outputs": [
    {
     "data": {
      "text/plain": [
       "{'b', 'd', 'g', 'i', 'm', 'n'}"
      ]
     },
     "execution_count": 24,
     "metadata": {},
     "output_type": "execute_result"
    }
   ],
   "source": [
    "set_contoh"
   ]
  },
  {
   "cell_type": "markdown",
   "id": "564f9ba6",
   "metadata": {},
   "source": [
    "Another important data type is called dictionary in which we can store KEYS and Values.\n",
    "\n",
    "Waduh, dictionary apa lagi tuh.\n",
    "\n",
    "Udah, anggep aja 'kamus'. \n",
    "\n",
    "Di kamus kan ada katanya, dan ada definisinya. \n",
    "\n",
    "Sama, dictionary juga begitu cara kerjanya. Begini."
   ]
  },
  {
   "cell_type": "code",
   "execution_count": 36,
   "id": "09c50503",
   "metadata": {},
   "outputs": [],
   "source": [
    "identitas = {\n",
    "    'nama':'eren yeager',\n",
    "    'tempat lahir':'pulau paradis',\n",
    "    'jenis kelamin':'laki-laki',\n",
    "    'angkatan':104,\n",
    "    'jurusan':'survey corps'\n",
    "}"
   ]
  },
  {
   "cell_type": "markdown",
   "id": "0bd49b1b",
   "metadata": {},
   "source": [
    "'Nama', 'tempat lahir', 'jenis kelamin', itu ibarat 'kata-kata' dalam kamus. Kita sebutnya KEYS\n",
    "\n",
    "Sedangkan 'eren yeager', 'pulau paradis', dll, itu adalah VALUES. Itu adalah 'definisi' dari 'kata-kata di dalam kamus', analoginya begitu kira-kira"
   ]
  },
  {
   "cell_type": "code",
   "execution_count": 18,
   "id": "afa40fb4",
   "metadata": {},
   "outputs": [
    {
     "data": {
      "text/plain": [
       "'eren yeager'"
      ]
     },
     "execution_count": 18,
     "metadata": {},
     "output_type": "execute_result"
    }
   ],
   "source": [
    "identitas['nama']"
   ]
  },
  {
   "cell_type": "code",
   "execution_count": 19,
   "id": "11938af1",
   "metadata": {},
   "outputs": [
    {
     "data": {
      "text/plain": [
       "104"
      ]
     },
     "execution_count": 19,
     "metadata": {},
     "output_type": "execute_result"
    }
   ],
   "source": [
    "identitas['angkatan']"
   ]
  },
  {
   "cell_type": "code",
   "execution_count": 20,
   "id": "36d71dc8",
   "metadata": {},
   "outputs": [
    {
     "data": {
      "text/plain": [
       "'survey corps'"
      ]
     },
     "execution_count": 20,
     "metadata": {},
     "output_type": "execute_result"
    }
   ],
   "source": [
    "identitas['jurusan']"
   ]
  },
  {
   "cell_type": "markdown",
   "id": "f0e95da3",
   "metadata": {},
   "source": [
    "Kegunaannya? Banyak...contohnya bgini."
   ]
  },
  {
   "cell_type": "code",
   "execution_count": 29,
   "id": "d7dc0a84",
   "metadata": {},
   "outputs": [],
   "source": [
    "barang_dagangan = {\n",
    "    'ibox':['iphone 13','macbook pro', 'mac mini', 'macbook air'],\n",
    "    'erafone':['xiaomi 11', 'redmi note 11', 'realme neo gt 2']\n",
    "}"
   ]
  },
  {
   "cell_type": "code",
   "execution_count": 34,
   "id": "44f0a961",
   "metadata": {},
   "outputs": [
    {
     "name": "stdout",
     "output_type": "stream",
     "text": [
      "['iphone 13', 'macbook pro', 'mac mini', 'macbook air']\n"
     ]
    }
   ],
   "source": [
    "barang_di_ibox = barang_dagangan['ibox']\n",
    "print(barang_di_ibox)"
   ]
  },
  {
   "cell_type": "code",
   "execution_count": 35,
   "id": "4981171a",
   "metadata": {},
   "outputs": [
    {
     "data": {
      "text/plain": [
       "'mac mini'"
      ]
     },
     "execution_count": 35,
     "metadata": {},
     "output_type": "execute_result"
    }
   ],
   "source": [
    "barang_di_ibox[2]"
   ]
  },
  {
   "cell_type": "code",
   "execution_count": 41,
   "id": "60dc6dd7",
   "metadata": {},
   "outputs": [],
   "source": [
    "list_gede = [identitas, barang_dagangan]"
   ]
  },
  {
   "cell_type": "code",
   "execution_count": 42,
   "id": "268e3a6d",
   "metadata": {},
   "outputs": [
    {
     "data": {
      "text/plain": [
       "list"
      ]
     },
     "execution_count": 42,
     "metadata": {},
     "output_type": "execute_result"
    }
   ],
   "source": [
    "type(list_gede)"
   ]
  },
  {
   "cell_type": "code",
   "execution_count": 44,
   "id": "f5b256a9",
   "metadata": {},
   "outputs": [
    {
     "data": {
      "text/plain": [
       "'mac mini'"
      ]
     },
     "execution_count": 44,
     "metadata": {},
     "output_type": "execute_result"
    }
   ],
   "source": [
    "list_gede[1]['ibox'][2]"
   ]
  },
  {
   "cell_type": "code",
   "execution_count": 46,
   "id": "ebba5ce5",
   "metadata": {},
   "outputs": [],
   "source": [
    "barang_dagangan['ibox'].append('Samsung')"
   ]
  },
  {
   "cell_type": "code",
   "execution_count": 47,
   "id": "3ea47287",
   "metadata": {},
   "outputs": [
    {
     "data": {
      "text/plain": [
       "{'ibox': ['iphone 13', 'macbook pro', 'mac mini', 'macbook air', 'Samsung'],\n",
       " 'erafone': ['xiaomi 11', 'redmi note 11', 'realme neo gt 2']}"
      ]
     },
     "execution_count": 47,
     "metadata": {},
     "output_type": "execute_result"
    }
   ],
   "source": [
    "barang_dagangan"
   ]
  },
  {
   "cell_type": "markdown",
   "id": "bade48b9",
   "metadata": {},
   "source": [
    "### Printing and its Confusion"
   ]
  },
  {
   "cell_type": "markdown",
   "id": "c6f9cc88",
   "metadata": {},
   "source": [
    "In jupyter notebook, printing an object might cause confusion to a lot of newbies."
   ]
  },
  {
   "cell_type": "markdown",
   "id": "bfb72a46",
   "metadata": {},
   "source": [
    "If you don't use `print` function, it will automatically output the last line of code"
   ]
  },
  {
   "cell_type": "code",
   "execution_count": 23,
   "id": "9a61b8bb",
   "metadata": {},
   "outputs": [
    {
     "data": {
      "text/plain": [
       "2"
      ]
     },
     "execution_count": 23,
     "metadata": {},
     "output_type": "execute_result"
    }
   ],
   "source": [
    "1+1"
   ]
  },
  {
   "cell_type": "code",
   "execution_count": 24,
   "id": "aa34b44f",
   "metadata": {},
   "outputs": [
    {
     "data": {
      "text/plain": [
       "7"
      ]
     },
     "execution_count": 24,
     "metadata": {},
     "output_type": "execute_result"
    }
   ],
   "source": [
    "1+2\n",
    "2+3\n",
    "3+4"
   ]
  },
  {
   "cell_type": "markdown",
   "id": "b1ee0352",
   "metadata": {},
   "source": [
    "If you want to output everything..then you have to write `print`"
   ]
  },
  {
   "cell_type": "code",
   "execution_count": 25,
   "id": "47e273bb",
   "metadata": {},
   "outputs": [
    {
     "name": "stdout",
     "output_type": "stream",
     "text": [
      "3\n",
      "7\n"
     ]
    }
   ],
   "source": [
    "print(1+2)\n",
    "2+3\n",
    "print(3+4)"
   ]
  },
  {
   "cell_type": "markdown",
   "id": "e670770d",
   "metadata": {},
   "source": [
    "Look, that one in the middle, that does not have `print`, did not get 'printed'"
   ]
  },
  {
   "cell_type": "markdown",
   "id": "2a69e79d",
   "metadata": {},
   "source": [
    "### Methods and Functions"
   ]
  },
  {
   "cell_type": "markdown",
   "id": "5fca73d8",
   "metadata": {},
   "source": [
    "Simply said, functions are a set of instruction which are wrapped by a name, so we can call it anytime, and it saved us from writing everything from scratch."
   ]
  },
  {
   "cell_type": "code",
   "execution_count": 48,
   "id": "33d3d57d",
   "metadata": {},
   "outputs": [
    {
     "data": {
      "text/plain": [
       "8"
      ]
     },
     "execution_count": 48,
     "metadata": {},
     "output_type": "execute_result"
    }
   ],
   "source": [
    "len(list_contoh)"
   ]
  },
  {
   "cell_type": "markdown",
   "id": "c1afd157",
   "metadata": {},
   "source": [
    "Some functions are built in, like `len`. Len will measure the length of the input object, and give us the 'length' of that object."
   ]
  },
  {
   "cell_type": "code",
   "execution_count": 49,
   "id": "03fc9464",
   "metadata": {},
   "outputs": [
    {
     "data": {
      "text/plain": [
       "[1, 2, 3, 4, 5, 6, 8, 10]"
      ]
     },
     "execution_count": 49,
     "metadata": {},
     "output_type": "execute_result"
    }
   ],
   "source": [
    "list_contoh"
   ]
  },
  {
   "cell_type": "markdown",
   "id": "0b3160e9",
   "metadata": {},
   "source": [
    "See? There are indeed 7 members in the `list_contoh`. So, the length is 7. So, the function `len` outputs a value of 7, when we give `list_contoh` as the input."
   ]
  },
  {
   "cell_type": "markdown",
   "id": "3d5bb926",
   "metadata": {},
   "source": [
    "Some functions can also be custom-made. Most of us will do this in our career, so get used to write functions!"
   ]
  },
  {
   "cell_type": "code",
   "execution_count": 50,
   "id": "cd3b1ca4",
   "metadata": {},
   "outputs": [],
   "source": [
    "def luas_keliling(panjang, lebar):\n",
    "    luas = panjang * lebar\n",
    "    keliling = 2*(panjang+lebar)\n",
    "    \n",
    "    return luas, keliling"
   ]
  },
  {
   "cell_type": "markdown",
   "id": "43ef6d0b",
   "metadata": {},
   "source": [
    "Let's study this function.\n",
    "\n",
    "This function takes in two inputs. \n",
    "\n",
    "- Input pertama, itu diberi variabel `panjang`. Pemberian nama `panjang` ini sementara doang, cuma dipake pas lagi nge-run fungsinya. \n",
    "- Input kedua, itu diberi variabel `lebar`.\n",
    "\n",
    "Nantinya, si input pertama dan kedua ini dikalikan...jadilah object baru yang diberi variabel `luas`.\n",
    "\n",
    "Setelah itu, dihitung `keliling`nya.\n",
    "\n",
    "Akhirnya, fungsi ini menggunakan kata `return`. \n",
    "\n",
    "Artinya, setelah selesai menghitung, ada 2 object yang fungsi ini akan *kembalikan* ke kita, yaitu berupa luas, dan keliling."
   ]
  },
  {
   "cell_type": "code",
   "execution_count": 51,
   "id": "38710fb1",
   "metadata": {},
   "outputs": [
    {
     "data": {
      "text/plain": [
       "(21, 20)"
      ]
     },
     "execution_count": 51,
     "metadata": {},
     "output_type": "execute_result"
    }
   ],
   "source": [
    "luas_keliling(7,3)"
   ]
  },
  {
   "cell_type": "markdown",
   "id": "2a2abbf9",
   "metadata": {},
   "source": [
    "Artinya, untuk persegi panjang yang panjangnya 7 dan lebarnya 3, luasnya 21, lebarnya 20.\n",
    "\n",
    "Ingat posisinya! panjang itu input pertama, lebar itu input kedua.\n",
    "\n",
    "Pas di-return, yang pertama itu luas, baru keliling!"
   ]
  },
  {
   "cell_type": "markdown",
   "id": "fc74a508",
   "metadata": {},
   "source": [
    "Gimana cara kita 'nyimpen' value yang di-return?"
   ]
  },
  {
   "cell_type": "code",
   "execution_count": 52,
   "id": "285dcceb",
   "metadata": {},
   "outputs": [],
   "source": [
    "jawaban_l, jawaban_k = luas_keliling(7, 4)"
   ]
  },
  {
   "cell_type": "code",
   "execution_count": 34,
   "id": "2eb5f543",
   "metadata": {},
   "outputs": [
    {
     "name": "stdout",
     "output_type": "stream",
     "text": [
      "28\n",
      "22\n"
     ]
    }
   ],
   "source": [
    "print(jawaban_l)\n",
    "print(jawaban_k)"
   ]
  },
  {
   "cell_type": "markdown",
   "id": "04799bf1",
   "metadata": {},
   "source": [
    "Ga mau nyimpen value ah, maunya ngeprint aja. Gimana dong? \n",
    "\n",
    "Bisa!"
   ]
  },
  {
   "cell_type": "code",
   "execution_count": 53,
   "id": "355913c3",
   "metadata": {},
   "outputs": [],
   "source": [
    "def luas_keliling(panjang, lebar):\n",
    "    luas = panjang * lebar\n",
    "    keliling = 2*(panjang+lebar)\n",
    "    \n",
    "    print('Luas persegi panjang:', luas)\n",
    "    print('Keliling persegi panjang:', keliling)"
   ]
  },
  {
   "cell_type": "code",
   "execution_count": 54,
   "id": "32ffa201",
   "metadata": {},
   "outputs": [
    {
     "name": "stdout",
     "output_type": "stream",
     "text": [
      "Luas persegi panjang: 21\n",
      "Keliling persegi panjang: 20\n"
     ]
    }
   ],
   "source": [
    "luas_keliling(7, 3)"
   ]
  },
  {
   "cell_type": "markdown",
   "id": "8d447dbe",
   "metadata": {},
   "source": [
    "Tapi konsekuensinya, ya nilai '21' dan '20' ini nggak disimpen dimana pun. Cuma di print doang."
   ]
  },
  {
   "cell_type": "markdown",
   "id": "ebe04013",
   "metadata": {},
   "source": [
    "Kalo mau disimpen dan diprint gimana?"
   ]
  },
  {
   "cell_type": "code",
   "execution_count": 55,
   "id": "26b8096d",
   "metadata": {},
   "outputs": [],
   "source": [
    "def luas_keliling(panjang, lebar):\n",
    "    luas = panjang * lebar\n",
    "    keliling = 2*(panjang+lebar)\n",
    "    \n",
    "    print('Luas persegi panjang:', luas)\n",
    "    print('Keliling persegi panjang:', keliling)\n",
    "    \n",
    "    return luas, keliling"
   ]
  },
  {
   "cell_type": "code",
   "execution_count": 56,
   "id": "9644f000",
   "metadata": {},
   "outputs": [
    {
     "name": "stdout",
     "output_type": "stream",
     "text": [
      "Luas persegi panjang: 36\n",
      "Keliling persegi panjang: 26\n"
     ]
    }
   ],
   "source": [
    "jawaban_luas, jawaban_keliling = luas_keliling(9,4)"
   ]
  },
  {
   "cell_type": "code",
   "execution_count": 39,
   "id": "6bfb6bb5",
   "metadata": {},
   "outputs": [
    {
     "name": "stdout",
     "output_type": "stream",
     "text": [
      "36\n"
     ]
    }
   ],
   "source": [
    "print(jawaban_luas)"
   ]
  },
  {
   "cell_type": "markdown",
   "id": "af94c10f",
   "metadata": {},
   "source": [
    "Fungsi yang lengkap"
   ]
  },
  {
   "cell_type": "code",
   "execution_count": 57,
   "id": "a8b0e47d",
   "metadata": {},
   "outputs": [],
   "source": [
    "a = 1\n",
    "b = 2"
   ]
  },
  {
   "cell_type": "code",
   "execution_count": null,
   "id": "d19b20d4",
   "metadata": {},
   "outputs": [],
   "source": []
  },
  {
   "cell_type": "code",
   "execution_count": 59,
   "id": "c4e8260b",
   "metadata": {},
   "outputs": [],
   "source": [
    "def luas_keliling(panjang, lebar):\n",
    "    \"\"\"\n",
    "    Fungsi ini menerima dua input, yaitu panjang dan lebar.\n",
    "    Jika panjang lebih pendek daripada lebar, maka kedua nilai tersebut akan saling ditukar.\n",
    "    Setelah itu, luas dan keliling persegi panjang akan dihitung.\n",
    "    Pada akhirnya, nilai luas dan keliling akan diprint, dan direturn, dengan urutan luas dulu baru keliling.\n",
    "    \"\"\"    \n",
    "    \n",
    "    if panjang < lebar: \n",
    "        lebar, panjang = panjang, lebar\n",
    "        print('Waduh! Kok panjang lebih pendek daripada lebar. Kita switch ya!')\n",
    "    else:\n",
    "        pass\n",
    "        \n",
    "    luas = panjang * lebar\n",
    "    keliling = 2*(panjang + lebar)\n",
    "    \n",
    "    print(f'Luas persegi panjang yang memiliki panjang {panjang} dan lebar {lebar} adalah {luas}')\n",
    "    print(f'Keliling persegi panjang yang memiliki panjang {panjang} dan lebar {lebar} adalah {keliling}')\n",
    "    \n",
    "    return luas, keliling\n",
    "        "
   ]
  },
  {
   "cell_type": "code",
   "execution_count": 60,
   "id": "78f1a1be",
   "metadata": {},
   "outputs": [
    {
     "name": "stdout",
     "output_type": "stream",
     "text": [
      "Waduh! Kok panjang lebih pendek daripada lebar. Kita switch ya!\n",
      "Luas persegi panjang yang memiliki panjang 5 dan lebar 3 adalah 15\n",
      "Keliling persegi panjang yang memiliki panjang 5 dan lebar 3 adalah 16\n"
     ]
    }
   ],
   "source": [
    "luas_pp, keliling_pp = luas_keliling(3, 5)"
   ]
  },
  {
   "cell_type": "code",
   "execution_count": 48,
   "id": "afab4b08",
   "metadata": {},
   "outputs": [
    {
     "name": "stdout",
     "output_type": "stream",
     "text": [
      "Luas persegi panjang yang memiliki panjang 8 dan lebar 5 adalah 40\n",
      "Keliling persegi panjang yang memiliki panjang 8 dan lebar 5 adalah 26\n"
     ]
    }
   ],
   "source": [
    "luas_pp, keliling_pp = luas_keliling(8, 5)"
   ]
  },
  {
   "cell_type": "code",
   "execution_count": 65,
   "id": "b80f4ff0",
   "metadata": {},
   "outputs": [],
   "source": [
    "def fungsi_banyak_input(input_1, input_2, input_3, input_4, input_5, input_6):\n",
    "    return input_6, input_5, input_4, input_3, input_2, input_1"
   ]
  },
  {
   "cell_type": "code",
   "execution_count": 66,
   "id": "30f54ec2",
   "metadata": {},
   "outputs": [
    {
     "data": {
      "text/plain": [
       "(6, 5, 4, 3, 2, 1)"
      ]
     },
     "execution_count": 66,
     "metadata": {},
     "output_type": "execute_result"
    }
   ],
   "source": [
    "fungsi_banyak_input(1,2,3,4,5,6)"
   ]
  },
  {
   "cell_type": "code",
   "execution_count": 69,
   "id": "d3d5e905",
   "metadata": {},
   "outputs": [
    {
     "name": "stdout",
     "output_type": "stream",
     "text": [
      "Nilai ulangan akhir saya adalah 100 maka saya sangat senang\n"
     ]
    }
   ],
   "source": [
    "nilai = 100\n",
    "print(f'Nilai ulangan akhir saya adalah {nilai} maka saya sangat senang')"
   ]
  },
  {
   "cell_type": "markdown",
   "id": "a540c1e0",
   "metadata": {},
   "source": [
    "Oke. Kita selesai dengan 'function'.\n",
    "\n",
    "Kalo gitu 'method' apa?\n",
    "\n",
    "Method itu mirip seperti function, tapi 'terikat' sama object.\n",
    "\n",
    "Method adalah function yang tergantung sama object. Bedanya apa dong? Pas kita manggil sebuah method, biasanya letaknya dia adalah setelah tanda titik di sebelah kanan object. Maksudnya apa si? Gini..."
   ]
  },
  {
   "cell_type": "code",
   "execution_count": 70,
   "id": "65235052",
   "metadata": {},
   "outputs": [],
   "source": [
    "list_contoh = [1,2,3,4,5,6]"
   ]
  },
  {
   "cell_type": "markdown",
   "id": "3ce8150e",
   "metadata": {},
   "source": [
    "Kita tambahin ya angka 8 ke list contoh itu?"
   ]
  },
  {
   "cell_type": "code",
   "execution_count": 71,
   "id": "8994c884",
   "metadata": {},
   "outputs": [],
   "source": [
    "list_contoh.append(8)"
   ]
  },
  {
   "cell_type": "code",
   "execution_count": 72,
   "id": "2d1a9033",
   "metadata": {},
   "outputs": [
    {
     "data": {
      "text/plain": [
       "[1, 2, 3, 4, 5, 6, 8]"
      ]
     },
     "execution_count": 72,
     "metadata": {},
     "output_type": "execute_result"
    }
   ],
   "source": [
    "list_contoh"
   ]
  },
  {
   "cell_type": "markdown",
   "id": "2891cc0d",
   "metadata": {},
   "source": [
    "Nah, append ini adalah `method`.\n",
    "\n",
    "Append ini merupakan `method` khusus buat object-object yang tipenya itu `list`. "
   ]
  },
  {
   "cell_type": "code",
   "execution_count": 73,
   "id": "cf39ac43",
   "metadata": {},
   "outputs": [],
   "source": [
    "himpunan_baru = {1,2,3,4,5}"
   ]
  },
  {
   "cell_type": "code",
   "execution_count": 74,
   "id": "61b6e4ef",
   "metadata": {},
   "outputs": [
    {
     "ename": "AttributeError",
     "evalue": "'set' object has no attribute 'append'",
     "output_type": "error",
     "traceback": [
      "\u001b[1;31m---------------------------------------------------------------------------\u001b[0m",
      "\u001b[1;31mAttributeError\u001b[0m                            Traceback (most recent call last)",
      "\u001b[1;32m<ipython-input-74-18e359ee3832>\u001b[0m in \u001b[0;36m<module>\u001b[1;34m\u001b[0m\n\u001b[1;32m----> 1\u001b[1;33m \u001b[0mhimpunan_baru\u001b[0m\u001b[1;33m.\u001b[0m\u001b[0mappend\u001b[0m\u001b[1;33m(\u001b[0m\u001b[1;36m6\u001b[0m\u001b[1;33m)\u001b[0m\u001b[1;33m\u001b[0m\u001b[0m\n\u001b[0m",
      "\u001b[1;31mAttributeError\u001b[0m: 'set' object has no attribute 'append'"
     ]
    }
   ],
   "source": [
    "himpunan_baru.append(6)"
   ]
  },
  {
   "cell_type": "markdown",
   "id": "9597c9f7",
   "metadata": {},
   "source": [
    "Error kan?"
   ]
  },
  {
   "cell_type": "code",
   "execution_count": 54,
   "id": "fe70b8e7",
   "metadata": {},
   "outputs": [],
   "source": [
    "himpunan_baru.add(6)"
   ]
  },
  {
   "cell_type": "code",
   "execution_count": 55,
   "id": "ef35b8e4",
   "metadata": {},
   "outputs": [
    {
     "data": {
      "text/plain": [
       "{1, 2, 3, 4, 5, 6}"
      ]
     },
     "execution_count": 55,
     "metadata": {},
     "output_type": "execute_result"
    }
   ],
   "source": [
    "himpunan_baru"
   ]
  },
  {
   "cell_type": "markdown",
   "id": "a3263153",
   "metadata": {},
   "source": [
    "Harus .add kalo buat nambahin sesuatu ke `set`, ga bisa append."
   ]
  },
  {
   "cell_type": "markdown",
   "id": "ed0d506e",
   "metadata": {},
   "source": [
    "Kita bisa ngebuat method baru, tapi ya untuk hal itu, kita harus membuat object baru, dan itu merupakan materi yang dinamakan 'Object Oriented Programming'. Next time!"
   ]
  },
  {
   "cell_type": "markdown",
   "id": "3e32bb75",
   "metadata": {},
   "source": [
    "### Looping"
   ]
  },
  {
   "cell_type": "markdown",
   "id": "b4f7c09d",
   "metadata": {},
   "source": [
    "Looping is a way to do a process over and over again until a certain condition is fulfilled."
   ]
  },
  {
   "cell_type": "code",
   "execution_count": 79,
   "id": "457bbb45",
   "metadata": {},
   "outputs": [
    {
     "name": "stdout",
     "output_type": "stream",
     "text": [
      "Nama peserta: Aldo\n",
      "Nama peserta: Budi\n",
      "Nama peserta: Cindy\n",
      "Nama peserta: Dilan\n"
     ]
    }
   ],
   "source": [
    "## This looping prints all members of a list\n",
    "list_loop = ['Aldo', 'Budi', 'Cindy', 'Dilan']\n",
    "\n",
    "for name in list_loop:\n",
    "    print('Nama peserta:', name)"
   ]
  },
  {
   "cell_type": "code",
   "execution_count": 37,
   "id": "ab9ef6c0",
   "metadata": {},
   "outputs": [
    {
     "name": "stdout",
     "output_type": "stream",
     "text": [
      "Nama peserta: Aldo\n",
      "Nama peserta: Budi\n",
      "Nama peserta: Cindy\n"
     ]
    }
   ],
   "source": [
    "print('Nama peserta:', list_loop[0])\n",
    "print('Nama peserta:', list_loop[1])\n",
    "print('Nama peserta:', list_loop[2])"
   ]
  },
  {
   "cell_type": "code",
   "execution_count": 86,
   "id": "85a6d42e",
   "metadata": {},
   "outputs": [
    {
     "name": "stdout",
     "output_type": "stream",
     "text": [
      "1\n",
      "2\n",
      "3\n",
      "4\n",
      "5\n",
      "6\n",
      "7\n",
      "8\n"
     ]
    }
   ],
   "source": [
    "list_loop = [1,2,3,4,5,6,7,8]\n",
    "for x in list_loop:\n",
    "    print(x)"
   ]
  },
  {
   "cell_type": "code",
   "execution_count": 88,
   "id": "08b3beb7",
   "metadata": {},
   "outputs": [
    {
     "name": "stdout",
     "output_type": "stream",
     "text": [
      "Abc\n",
      "Abc\n",
      "Abc\n",
      "Abc\n",
      "Abc\n",
      "Abc\n",
      "Abc\n"
     ]
    }
   ],
   "source": [
    "nama = 'Abc'\n",
    "\n",
    "for i in range(7):\n",
    "    print(nama)"
   ]
  },
  {
   "cell_type": "code",
   "execution_count": null,
   "id": "a23198f9",
   "metadata": {},
   "outputs": [],
   "source": []
  },
  {
   "cell_type": "code",
   "execution_count": 87,
   "id": "b6519a64",
   "metadata": {},
   "outputs": [
    {
     "name": "stdout",
     "output_type": "stream",
     "text": [
      "Mau angka berapa yang ditulis kelipatannya? 11\n",
      "Berapa kelipatan 11 yang diinginkan? 5\n",
      "11\n",
      "22\n",
      "33\n",
      "44\n",
      "55\n"
     ]
    }
   ],
   "source": [
    "a = 0\n",
    "\n",
    "kelipatan_angka_apa = int(input('Mau angka berapa yang ditulis kelipatannya? '))\n",
    "berapa_kali = int(input(f'Berapa kelipatan {kelipatan_angka_apa} yang diinginkan? '))\n",
    "\n",
    "for i in range(berapa_kali):\n",
    "    a = a + kelipatan_angka_apa\n",
    "    print(a)"
   ]
  },
  {
   "cell_type": "markdown",
   "id": "4f1e7037",
   "metadata": {},
   "source": [
    "### If Else"
   ]
  },
  {
   "cell_type": "markdown",
   "id": "904dda70",
   "metadata": {},
   "source": [
    "If Else usage is similar to how you would usually use If Else in Excel."
   ]
  },
  {
   "cell_type": "code",
   "execution_count": 93,
   "id": "673ab111",
   "metadata": {},
   "outputs": [
    {
     "name": "stdout",
     "output_type": "stream",
     "text": [
      "Congratulations! You get an A!\n"
     ]
    }
   ],
   "source": [
    "score = 90\n",
    "cheat = False\n",
    "\n",
    "if (score < 70) or (cheat == True):\n",
    "    print('You need to retake the class.')\n",
    "elif score < 85:\n",
    "    print('Great! You passed.')\n",
    "elif score < 90:\n",
    "    print('Great! You get a B+')\n",
    "else:\n",
    "    print('Congratulations! You get an A!')"
   ]
  },
  {
   "cell_type": "markdown",
   "id": "b574c698",
   "metadata": {},
   "source": [
    "### Last Material: String and Indexing in Python (bridging to R)"
   ]
  },
  {
   "cell_type": "markdown",
   "id": "be486925",
   "metadata": {},
   "source": [
    "Strings are text data. In reality, it does not only contain letters, but also symbols we usually use in texts, such as '-', '!', and even the white space between two words."
   ]
  },
  {
   "cell_type": "code",
   "execution_count": 113,
   "id": "35e47e1f",
   "metadata": {},
   "outputs": [],
   "source": [
    "teks = 'abcdkjdhfgkshrioltef'"
   ]
  },
  {
   "cell_type": "code",
   "execution_count": 121,
   "id": "5609e890",
   "metadata": {},
   "outputs": [
    {
     "data": {
      "text/plain": [
       "'dkjdhfgk'"
      ]
     },
     "execution_count": 121,
     "metadata": {},
     "output_type": "execute_result"
    }
   ],
   "source": [
    "teks[3:11]"
   ]
  },
  {
   "cell_type": "code",
   "execution_count": 120,
   "id": "f8c2839b",
   "metadata": {},
   "outputs": [
    {
     "data": {
      "text/plain": [
       "'olte'"
      ]
     },
     "execution_count": 120,
     "metadata": {},
     "output_type": "execute_result"
    }
   ],
   "source": [
    "teks[-5:-1]"
   ]
  },
  {
   "cell_type": "code",
   "execution_count": 66,
   "id": "8522390c",
   "metadata": {},
   "outputs": [],
   "source": [
    "text = 'This is a sentence'"
   ]
  },
  {
   "cell_type": "code",
   "execution_count": 68,
   "id": "d33b5b03",
   "metadata": {},
   "outputs": [
    {
     "name": "stdout",
     "output_type": "stream",
     "text": [
      "T\n",
      "h\n",
      "i\n",
      "s\n",
      " \n",
      "i\n"
     ]
    }
   ],
   "source": [
    "print(text[0])\n",
    "print(text[1])\n",
    "print(text[2])\n",
    "print(text[3])\n",
    "print(text[4])\n",
    "print(text[5])"
   ]
  },
  {
   "cell_type": "markdown",
   "id": "aec7522e",
   "metadata": {},
   "source": [
    "We can use negative number to spell our string from the last letter!"
   ]
  },
  {
   "cell_type": "code",
   "execution_count": 69,
   "id": "ce3be2ae",
   "metadata": {},
   "outputs": [
    {
     "name": "stdout",
     "output_type": "stream",
     "text": [
      "e\n",
      "c\n"
     ]
    }
   ],
   "source": [
    "print(text[-1])\n",
    "print(text[-2])"
   ]
  },
  {
   "cell_type": "code",
   "execution_count": 72,
   "id": "553b55dc",
   "metadata": {},
   "outputs": [],
   "source": [
    "text_1 = 'Coding with Python'\n",
    "text_2 = 'Belajar coding dengan dibimbing'"
   ]
  },
  {
   "cell_type": "code",
   "execution_count": null,
   "id": "fff9745c",
   "metadata": {},
   "outputs": [],
   "source": []
  },
  {
   "cell_type": "markdown",
   "id": "82ef3a36",
   "metadata": {},
   "source": [
    "We also can split a sentence into words."
   ]
  },
  {
   "cell_type": "code",
   "execution_count": 123,
   "id": "48e1d4aa",
   "metadata": {},
   "outputs": [],
   "source": [
    "text = 'This is a sentence'"
   ]
  },
  {
   "cell_type": "code",
   "execution_count": 124,
   "id": "457bbf06",
   "metadata": {},
   "outputs": [
    {
     "data": {
      "text/plain": [
       "['This', 'is', 'a', 'sentence']"
      ]
     },
     "execution_count": 124,
     "metadata": {},
     "output_type": "execute_result"
    }
   ],
   "source": [
    "text.split(' ')"
   ]
  },
  {
   "cell_type": "code",
   "execution_count": 125,
   "id": "131c1340",
   "metadata": {},
   "outputs": [
    {
     "data": {
      "text/plain": [
       "['Coding', 'dengan', 'Python']"
      ]
     },
     "execution_count": 125,
     "metadata": {},
     "output_type": "execute_result"
    }
   ],
   "source": [
    "text_3 = 'Coding-dengan-Python'\n",
    "text_3.split('-')"
   ]
  },
  {
   "cell_type": "code",
   "execution_count": 109,
   "id": "adc36ab3",
   "metadata": {},
   "outputs": [],
   "source": [
    "list_baru = ['a','b','c']"
   ]
  },
  {
   "cell_type": "code",
   "execution_count": 119,
   "id": "6f8cf297",
   "metadata": {},
   "outputs": [
    {
     "data": {
      "text/plain": [
       "str"
      ]
     },
     "execution_count": 119,
     "metadata": {},
     "output_type": "execute_result"
    }
   ],
   "source": [
    "type('a')"
   ]
  },
  {
   "cell_type": "code",
   "execution_count": 122,
   "id": "4a865d8d",
   "metadata": {},
   "outputs": [
    {
     "data": {
      "text/plain": [
       "str"
      ]
     },
     "execution_count": 122,
     "metadata": {},
     "output_type": "execute_result"
    }
   ],
   "source": [
    "x = 1\n",
    "type(str(x))"
   ]
  },
  {
   "cell_type": "code",
   "execution_count": 126,
   "id": "1ba44757",
   "metadata": {},
   "outputs": [],
   "source": [
    "a = 1"
   ]
  },
  {
   "cell_type": "code",
   "execution_count": 127,
   "id": "94e8fbdd",
   "metadata": {},
   "outputs": [],
   "source": [
    "del a"
   ]
  },
  {
   "cell_type": "code",
   "execution_count": 128,
   "id": "868d6a54",
   "metadata": {},
   "outputs": [
    {
     "ename": "NameError",
     "evalue": "name 'a' is not defined",
     "output_type": "error",
     "traceback": [
      "\u001b[1;31m---------------------------------------------------------------------------\u001b[0m",
      "\u001b[1;31mNameError\u001b[0m                                 Traceback (most recent call last)",
      "\u001b[1;32m<ipython-input-128-3f786850e387>\u001b[0m in \u001b[0;36m<module>\u001b[1;34m\u001b[0m\n\u001b[1;32m----> 1\u001b[1;33m \u001b[0ma\u001b[0m\u001b[1;33m\u001b[0m\u001b[0m\n\u001b[0m",
      "\u001b[1;31mNameError\u001b[0m: name 'a' is not defined"
     ]
    }
   ],
   "source": [
    "a"
   ]
  },
  {
   "cell_type": "code",
   "execution_count": null,
   "id": "343ce75a",
   "metadata": {},
   "outputs": [],
   "source": []
  },
  {
   "cell_type": "code",
   "execution_count": null,
   "id": "3dfc00bb",
   "metadata": {},
   "outputs": [],
   "source": []
  },
  {
   "cell_type": "code",
   "execution_count": null,
   "id": "7b936786",
   "metadata": {},
   "outputs": [],
   "source": []
  }
 ],
 "metadata": {
  "kernelspec": {
   "display_name": "Python 3",
   "language": "python",
   "name": "python3"
  },
  "language_info": {
   "codemirror_mode": {
    "name": "ipython",
    "version": 3
   },
   "file_extension": ".py",
   "mimetype": "text/x-python",
   "name": "python",
   "nbconvert_exporter": "python",
   "pygments_lexer": "ipython3",
   "version": "3.7.0"
  }
 },
 "nbformat": 4,
 "nbformat_minor": 5
}
